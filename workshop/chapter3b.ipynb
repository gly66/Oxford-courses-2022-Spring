{
 "cells": [
  {
   "cell_type": "markdown",
   "id": "815195cd",
   "metadata": {},
   "source": [
    "# 1. visualization "
   ]
  },
  {
   "cell_type": "code",
   "execution_count": 7,
   "id": "8501003b",
   "metadata": {},
   "outputs": [
    {
     "name": "stdout",
     "output_type": "stream",
     "text": [
      "Using matplotlib backend: MacOSX\n"
     ]
    }
   ],
   "source": [
    "import pandas as pd\n",
    "import seaborn as sns; sns.set()\n",
    "from sklearn.decomposition import PCA\n",
    "from sklearn.datasets import load_digits\n",
    "import numpy as np\n",
    "import matplotlib.pyplot as plt\n",
    "from mpl_toolkits.mplot3d import Axes3D\n",
    "import random as rand\n",
    "%matplotlib"
   ]
  },
  {
   "cell_type": "code",
   "execution_count": 8,
   "id": "da57c299",
   "metadata": {},
   "outputs": [],
   "source": [
    "fig = plt.figure(figsize=(6,6))\n",
    "ax = fig.add_subplot(111,projection = '3d')"
   ]
  },
  {
   "cell_type": "code",
   "execution_count": 9,
   "id": "c4d10fcb",
   "metadata": {},
   "outputs": [],
   "source": [
    "xGrad = 5\n",
    "yGrad = 7\n",
    "noiseSD = 0.05\n",
    "\n",
    "x=[]\n",
    "y=[]\n",
    "z=[]\n",
    "for i in range(100):\n",
    "    xItem = rand.randint(1,200)\n",
    "    yItem = rand.randint(1,200)\n",
    "    x.append(xItem)\n",
    "    y.append(yItem)\n",
    "    noise = np.random.normal(0,scale = 50.0)\n",
    "    z.append((xItem*xGrad)+(yItem*yGrad)+noise)"
   ]
  },
  {
   "cell_type": "code",
   "execution_count": 10,
   "id": "459a1bd6",
   "metadata": {},
   "outputs": [],
   "source": [
    "ax.scatter(x,y,z, c='r', marker='o')\n",
    "ax.set_xlabel('x')\n",
    "ax.set_xlabel('y')\n",
    "ax.set_xlabel('z')\n",
    "\n",
    "fig.show()\n"
   ]
  },
  {
   "cell_type": "markdown",
   "id": "99947f37",
   "metadata": {},
   "source": [
    "# 2. PCA "
   ]
  },
  {
   "cell_type": "code",
   "execution_count": 11,
   "id": "b5177852",
   "metadata": {},
   "outputs": [
    {
     "data": {
      "text/plain": [
       "(1797, 64)"
      ]
     },
     "execution_count": 11,
     "metadata": {},
     "output_type": "execute_result"
    }
   ],
   "source": [
    "digits = load_digits()\n",
    "digits.data.shape"
   ]
  },
  {
   "cell_type": "code",
   "execution_count": 13,
   "id": "e0246129",
   "metadata": {},
   "outputs": [
    {
     "data": {
      "text/plain": [
       "array([ 0.,  0.,  5., 13.,  9.,  1.,  0.,  0.,  0.,  0., 13., 15., 10.,\n",
       "       15.,  5.,  0.,  0.,  3., 15.,  2.,  0., 11.,  8.,  0.,  0.,  4.,\n",
       "       12.,  0.,  0.,  8.,  8.,  0.,  0.,  5.,  8.,  0.,  0.,  9.,  8.,\n",
       "        0.,  0.,  4., 11.,  0.,  1., 12.,  7.,  0.,  0.,  2., 14.,  5.,\n",
       "       10., 12.,  0.,  0.,  0.,  0.,  6., 13., 10.,  0.,  0.,  0.])"
      ]
     },
     "execution_count": 13,
     "metadata": {},
     "output_type": "execute_result"
    }
   ],
   "source": [
    "digits.data[0]"
   ]
  },
  {
   "cell_type": "code",
   "execution_count": 14,
   "id": "f076244c",
   "metadata": {},
   "outputs": [],
   "source": [
    "plt.gray()\n",
    "plt.matshow(digits.images[0])\n",
    "plt.show()"
   ]
  },
  {
   "cell_type": "code",
   "execution_count": 15,
   "id": "0bfc2fbd",
   "metadata": {},
   "outputs": [],
   "source": [
    "pca=PCA(3)  # 3 dimensions\n",
    "projected = pca.fit_transform(digits.data)"
   ]
  },
  {
   "cell_type": "code",
   "execution_count": 16,
   "id": "042ad570",
   "metadata": {},
   "outputs": [
    {
     "name": "stdout",
     "output_type": "stream",
     "text": [
      "(1797, 64)\n",
      "(1797, 3)\n"
     ]
    }
   ],
   "source": [
    "print(digits.data.shape)\n",
    "print(projected.shape)"
   ]
  },
  {
   "cell_type": "code",
   "execution_count": 17,
   "id": "332a4797",
   "metadata": {},
   "outputs": [
    {
     "data": {
      "text/plain": [
       "array([[ -1.25946792,  21.27488758,  -9.46306595],\n",
       "       [  7.95760935, -20.76869499,   4.43953372],\n",
       "       [  6.99192501,  -9.95599068,   2.95854253],\n",
       "       ...,\n",
       "       [ 10.80128366,  -6.96025083,   5.59955338],\n",
       "       [ -4.87209949,  12.42395603, -10.17093254],\n",
       "       [ -0.34438751,   6.36554483,  10.77369126]])"
      ]
     },
     "execution_count": 17,
     "metadata": {},
     "output_type": "execute_result"
    }
   ],
   "source": [
    "projected"
   ]
  },
  {
   "cell_type": "code",
   "execution_count": 18,
   "id": "51d0cada",
   "metadata": {},
   "outputs": [],
   "source": [
    "x=projected[: , 0]\n",
    "y=projected[: , 1]\n",
    "z=projected[: , 2]\n",
    "\n",
    "fig2 = plt.figure(figsize=(6,6))\n",
    "ax2 = fig2.add_subplot(111,projection = '3d')\n",
    "ax2.scatter(x,y,z, c=digits.target, cmap=plt.cm.get_cmap('Spectral', 10))\n",
    "ax.set_xlabel('X')\n",
    "ax.set_xlabel('Y')\n",
    "ax.set_xlabel('Z')\n",
    "\n",
    "fig2.show()\n",
    "\n"
   ]
  },
  {
   "cell_type": "markdown",
   "id": "197a9041",
   "metadata": {},
   "source": [
    "# 3. Choosing the number of components "
   ]
  },
  {
   "cell_type": "code",
   "execution_count": 19,
   "id": "7190ddb6",
   "metadata": {},
   "outputs": [
    {
     "data": {
      "text/plain": [
       "array([0.14890594, 0.28509365, 0.40303959, 0.48713938, 0.54496353,\n",
       "       0.59413263, 0.6372925 , 0.67390623, 0.70743871, 0.73822677,\n",
       "       0.76195018, 0.78467714, 0.80289578, 0.82063433, 0.83530534,\n",
       "       0.84940249, 0.86258838, 0.87506976, 0.88524694, 0.89430312,\n",
       "       0.9031985 , 0.91116973, 0.91884467, 0.9260737 , 0.93303259,\n",
       "       0.9389934 , 0.94474955, 0.94990113, 0.95479652, 0.9590854 ,\n",
       "       0.96282146, 0.96635421, 0.96972105, 0.97300135, 0.97608455,\n",
       "       0.97902234, 0.98158823, 0.98386565, 0.98608843, 0.98820273,\n",
       "       0.99010182, 0.99168835, 0.99319995, 0.99460574, 0.99577196,\n",
       "       0.99684689, 0.99781094, 0.99858557, 0.99914278, 0.99954711,\n",
       "       0.99975703, 0.99983951, 0.99989203, 0.99994255, 0.99997555,\n",
       "       0.99998798, 0.99999503, 0.99999804, 0.99999911, 0.99999966,\n",
       "       1.        , 1.        , 1.        , 1.        ])"
      ]
     },
     "execution_count": 19,
     "metadata": {},
     "output_type": "execute_result"
    },
    {
     "data": {
      "image/png": "[encoded data removed]",
      "text/plain": [
       "<Figure size 432x288 with 1 Axes>"
      ]
     },
     "metadata": {
      "needs_background": "light"
     },
     "output_type": "display_data"
    }
   ],
   "source": [
    "%matplotlib inline\n",
    "pca = PCA().fit(digits.data)\n",
    "plt.plot(np.cumsum(pca.explained_variance_ratio_))\n",
    "plt.xlabel('number of components')\n",
    "plt.ylabel('cumulative explained variance')\n",
    "np.cumsum(pca.explained_variance_ratio_)"
   ]
  },
  {
   "cell_type": "markdown",
   "id": "99e57b9b",
   "metadata": {},
   "source": [
    "# 4. PCA as noise filtering\n"
   ]
  },
  {
   "cell_type": "code",
   "execution_count": 20,
   "id": "ef1518a2",
   "metadata": {},
   "outputs": [
    {
     "data": {
      "image/png": "[encoded data removed]",
      "text/plain": [
       "<Figure size 720x288 with 40 Axes>"
      ]
     },
     "metadata": {},
     "output_type": "display_data"
    }
   ],
   "source": [
    "%matplotlib inline\n",
    "def plot_digits(data):\n",
    "        fig, axes = plt.subplots(4,10,figsize = (10,4), subplot_kw={'xticks':[], 'yticks':[]},\n",
    "                                gridspec_kw=dict(hspace=0.1, wspace=0.1))\n",
    "        for i, ax in enumerate(axes.flat):\n",
    "            ax.imshow(data[i].reshape(8,8),\n",
    "                     cmap = 'binary', interpolation='nearest', clim=(0,16))\n",
    "plot_digits(digits.data)\n",
    "        "
   ]
  },
  {
   "cell_type": "code",
   "execution_count": 21,
   "id": "2b3e4f60",
   "metadata": {},
   "outputs": [
    {
     "data": {
      "image/png": "[encoded data removed]",
      "text/plain": [
       "<Figure size 720x288 with 40 Axes>"
      ]
     },
     "metadata": {},
     "output_type": "display_data"
    }
   ],
   "source": [
    "np.random.seed(42)\n",
    "noisy = np.random.normal(digits.data, 4)\n",
    "plot_digits(noisy)"
   ]
  },
  {
   "cell_type": "code",
   "execution_count": 22,
   "id": "2b1e2b3a",
   "metadata": {},
   "outputs": [
    {
     "data": {
      "text/plain": [
       "12"
      ]
     },
     "execution_count": 22,
     "metadata": {},
     "output_type": "execute_result"
    }
   ],
   "source": [
    "pca = PCA(0.50).fit(noisy)\n",
    "pca.n_components_"
   ]
  },
  {
   "cell_type": "code",
   "execution_count": 26,
   "id": "5e505868",
   "metadata": {},
   "outputs": [
    {
     "data": {
      "image/png": "[encoded data removed]",
      "text/plain": [
       "<Figure size 720x288 with 40 Axes>"
      ]
     },
     "metadata": {},
     "output_type": "display_data"
    }
   ],
   "source": [
    "components = pca.transform(noisy)\n",
    "filtered = pca.inverse_transform(components)\n",
    "plot_digits(filtered)"
   ]
  },
  {
   "cell_type": "markdown",
   "id": "82084081",
   "metadata": {},
   "source": [
    "# Notes: reduce dimensions : PCA    reduce noise "
   ]
  },
  {
   "cell_type": "code",
   "execution_count": null,
   "id": "721943b6",
   "metadata": {},
   "outputs": [],
   "source": []
  }
 ],
 "metadata": {
  "kernelspec": {
   "display_name": "Python 3 (ipykernel)",
   "language": "python",
   "name": "python3"
  },
  "language_info": {
   "codemirror_mode": {
    "name": "ipython",
    "version": 3
   },
   "file_extension": ".py",
   "mimetype": "text/x-python",
   "name": "python",
   "nbconvert_exporter": "python",
   "pygments_lexer": "ipython3",
   "version": "3.9.7"
  }
 },
 "nbformat": 4,
 "nbformat_minor": 5
}
