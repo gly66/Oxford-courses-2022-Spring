{
 "cells": [
  {
   "cell_type": "markdown",
   "id": "00cfefd6",
   "metadata": {},
   "source": [
    "# 1.Genereate data "
   ]
  },
  {
   "cell_type": "code",
   "execution_count": 1,
   "id": "74501bef",
   "metadata": {},
   "outputs": [],
   "source": [
    "import numpy as np\n",
    "import random\n"
   ]
  },
  {
   "cell_type": "code",
   "execution_count": 4,
   "id": "d8c47cfd",
   "metadata": {},
   "outputs": [],
   "source": [
    "def genData(numPoints,A,K,variance):\n",
    "    x = np.zeros(shape = (numPoints,2))\n",
    "    y = np.zeros(shape = numPoints)\n",
    "    for i in range(0, numPoints):\n",
    "        x[i][0] = 1\n",
    "        x[i][1] = i\n",
    "        y[i] = (A*i +K) + random.uniform(0,1) * variance\n",
    "    return x, y\n"
   ]
  },
  {
   "cell_type": "code",
   "execution_count": 5,
   "id": "e954934e",
   "metadata": {},
   "outputs": [
    {
     "data": {
      "text/plain": [
       "[]"
      ]
     },
     "execution_count": 5,
     "metadata": {},
     "output_type": "execute_result"
    },
    {
     "data": {
      "image/png": "[encoded data removed]",
      "text/plain": [
       "<Figure size 504x360 with 1 Axes>"
      ]
     },
     "metadata": {
      "needs_background": "light"
     },
     "output_type": "display_data"
    }
   ],
   "source": [
    "x , y = genData(numPoints=100, A=2, K=100, variance=30)\n",
    "%matplotlib inline\n",
    "import seaborn as sns\n",
    "import matplotlib.pyplot as plt\n",
    "\n",
    "fig = plt.figure(figsize=(7,5))\n",
    "fig = sns.scatterplot(x=x[:, 1], y=y )\n",
    "fig.set(xlabel = 'x', ylabel = 'y', title = 'Graph of  y = 2.x + 100 + random.uniform(30)')\n",
    "plt.plot()"
   ]
  },
  {
   "cell_type": "markdown",
   "id": "0bd41602",
   "metadata": {},
   "source": [
    "# 2. Fitting a model to the data "
   ]
  },
  {
   "cell_type": "code",
   "execution_count": 7,
   "id": "b448b245",
   "metadata": {},
   "outputs": [
    {
     "data": {
      "text/plain": [
       "array([1., 1.])"
      ]
     },
     "execution_count": 7,
     "metadata": {},
     "output_type": "execute_result"
    }
   ],
   "source": [
    "m,n = np.shape(x)\n",
    "alpha = 0.05\n",
    "theta = np.ones(n)\n",
    "theta"
   ]
  },
  {
   "cell_type": "code",
   "execution_count": 8,
   "id": "c2f0be0b",
   "metadata": {},
   "outputs": [
    {
     "data": {
      "text/plain": [
       "array([[ 1.,  1.,  1.,  1.,  1.,  1.,  1.,  1.,  1.,  1.,  1.,  1.,  1.,\n",
       "         1.,  1.,  1.,  1.,  1.,  1.,  1.,  1.,  1.,  1.,  1.,  1.,  1.,\n",
       "         1.,  1.,  1.,  1.,  1.,  1.,  1.,  1.,  1.,  1.,  1.,  1.,  1.,\n",
       "         1.,  1.,  1.,  1.,  1.,  1.,  1.,  1.,  1.,  1.,  1.,  1.,  1.,\n",
       "         1.,  1.,  1.,  1.,  1.,  1.,  1.,  1.,  1.,  1.,  1.,  1.,  1.,\n",
       "         1.,  1.,  1.,  1.,  1.,  1.,  1.,  1.,  1.,  1.,  1.,  1.,  1.,\n",
       "         1.,  1.,  1.,  1.,  1.,  1.,  1.,  1.,  1.,  1.,  1.,  1.,  1.,\n",
       "         1.,  1.,  1.,  1.,  1.,  1.,  1.,  1.,  1.],\n",
       "       [ 0.,  1.,  2.,  3.,  4.,  5.,  6.,  7.,  8.,  9., 10., 11., 12.,\n",
       "        13., 14., 15., 16., 17., 18., 19., 20., 21., 22., 23., 24., 25.,\n",
       "        26., 27., 28., 29., 30., 31., 32., 33., 34., 35., 36., 37., 38.,\n",
       "        39., 40., 41., 42., 43., 44., 45., 46., 47., 48., 49., 50., 51.,\n",
       "        52., 53., 54., 55., 56., 57., 58., 59., 60., 61., 62., 63., 64.,\n",
       "        65., 66., 67., 68., 69., 70., 71., 72., 73., 74., 75., 76., 77.,\n",
       "        78., 79., 80., 81., 82., 83., 84., 85., 86., 87., 88., 89., 90.,\n",
       "        91., 92., 93., 94., 95., 96., 97., 98., 99.]])"
      ]
     },
     "execution_count": 8,
     "metadata": {},
     "output_type": "execute_result"
    }
   ],
   "source": [
    "x.T    "
   ]
  },
  {
   "cell_type": "code",
   "execution_count": 10,
   "id": "098fa814",
   "metadata": {},
   "outputs": [
    {
     "data": {
      "text/plain": [
       "array([  1.,   2.,   3.,   4.,   5.,   6.,   7.,   8.,   9.,  10.,  11.,\n",
       "        12.,  13.,  14.,  15.,  16.,  17.,  18.,  19.,  20.,  21.,  22.,\n",
       "        23.,  24.,  25.,  26.,  27.,  28.,  29.,  30.,  31.,  32.,  33.,\n",
       "        34.,  35.,  36.,  37.,  38.,  39.,  40.,  41.,  42.,  43.,  44.,\n",
       "        45.,  46.,  47.,  48.,  49.,  50.,  51.,  52.,  53.,  54.,  55.,\n",
       "        56.,  57.,  58.,  59.,  60.,  61.,  62.,  63.,  64.,  65.,  66.,\n",
       "        67.,  68.,  69.,  70.,  71.,  72.,  73.,  74.,  75.,  76.,  77.,\n",
       "        78.,  79.,  80.,  81.,  82.,  83.,  84.,  85.,  86.,  87.,  88.,\n",
       "        89.,  90.,  91.,  92.,  93.,  94.,  95.,  96.,  97.,  98.,  99.,\n",
       "       100.])"
      ]
     },
     "execution_count": 10,
     "metadata": {},
     "output_type": "execute_result"
    }
   ],
   "source": [
    "best_guess = np.dot(x,theta)    # theta = 1   1 \n",
    "best_guess"
   ]
  },
  {
   "cell_type": "code",
   "execution_count": 17,
   "id": "1a47fde7",
   "metadata": {},
   "outputs": [
    {
     "data": {
      "image/png": "[encoded data removed]",
      "text/plain": [
       "<Figure size 504x360 with 1 Axes>"
      ]
     },
     "metadata": {
      "needs_background": "light"
     },
     "output_type": "display_data"
    }
   ],
   "source": [
    "fig = plt.figure(figsize=(7,5))\n",
    "fig = sns.scatterplot(x = x[:, 1], y= best_guess)\n",
    "fig = sns.scatterplot(x = x[:, 1], y= y)"
   ]
  },
  {
   "cell_type": "code",
   "execution_count": 18,
   "id": "679f4320",
   "metadata": {},
   "outputs": [
    {
     "data": {
      "text/plain": [
       "array([-111.23933304, -117.93102686, -107.18907885, -121.30719946,\n",
       "       -112.02203333, -132.34346308, -132.46420773, -111.66722591,\n",
       "       -123.85070883, -133.35047812, -114.4963295 , -128.22584689,\n",
       "       -123.5277164 , -118.56668718, -123.32488281, -140.8477443 ,\n",
       "       -117.00360518, -134.79769529, -144.53803444, -127.88080564,\n",
       "       -122.83787841, -121.33544984, -146.79912984, -135.37205704,\n",
       "       -136.4152676 , -129.43241211, -128.55719674, -126.84783016,\n",
       "       -151.59867823, -152.14456613, -136.32182675, -145.18241176,\n",
       "       -139.79390994, -148.59120314, -159.28570087, -154.12308989,\n",
       "       -160.97987365, -164.3979675 , -147.25089843, -167.133461  ,\n",
       "       -142.3545229 , -159.96633433, -164.86847825, -146.35700052,\n",
       "       -157.96617869, -144.86663828, -174.74349857, -167.4251797 ,\n",
       "       -171.13944458, -159.19786769, -153.41740894, -157.76162087,\n",
       "       -171.24274755, -171.46595572, -153.57688346, -178.0214648 ,\n",
       "       -159.22317805, -179.88135582, -167.26204755, -165.36894654,\n",
       "       -166.27699719, -175.31864655, -165.0313534 , -185.71522426,\n",
       "       -179.24554052, -170.10355415, -172.42398537, -167.5680919 ,\n",
       "       -184.6966919 , -188.7144266 , -176.27183778, -183.11217159,\n",
       "       -195.89910607, -201.60798393, -192.74177174, -200.38279003,\n",
       "       -190.92887766, -205.88798566, -194.93362583, -207.53870228,\n",
       "       -197.43294969, -209.91143245, -207.2578298 , -200.46457617,\n",
       "       -197.29629874, -204.45732312, -199.74169537, -187.97524493,\n",
       "       -189.87603841, -204.13270717, -190.01215244, -205.70816862,\n",
       "       -219.45230101, -193.46058718, -212.19448987, -198.59818083,\n",
       "       -195.34652439, -219.06222143, -205.5348944 , -220.71976708])"
      ]
     },
     "execution_count": 18,
     "metadata": {},
     "output_type": "execute_result"
    }
   ],
   "source": [
    "loss = best_guess - y\n",
    "loss"
   ]
  },
  {
   "cell_type": "code",
   "execution_count": 19,
   "id": "a18248de",
   "metadata": {},
   "outputs": [
    {
     "data": {
      "text/plain": [
       "13847.655197686796"
      ]
     },
     "execution_count": 19,
     "metadata": {},
     "output_type": "execute_result"
    }
   ],
   "source": [
    "cost = np.sum(loss**2)/(2*m)\n",
    "cost"
   ]
  },
  {
   "cell_type": "code",
   "execution_count": 21,
   "id": "18d0bd51",
   "metadata": {},
   "outputs": [
    {
     "data": {
      "text/plain": [
       "array([ -261.60116412, -8937.61530029])"
      ]
     },
     "execution_count": 21,
     "metadata": {},
     "output_type": "execute_result"
    }
   ],
   "source": [
    "gradient = np.ones(n)\n",
    "gradient[0]= 0\n",
    "gradient[1] = 1\n",
    "for i in range(len(x)):\n",
    "    gradient[0] += - (1/m) * (y[i] - ((theta[0] - x[i,1]) + theta[1]))\n",
    "    gradient[1] += - (1/m) * x[i,1]* (y[i] - ((theta[0]*x[i,1]) + theta[1]))\n",
    "\n",
    "gradient"
   ]
  },
  {
   "cell_type": "code",
   "execution_count": 22,
   "id": "314ad42d",
   "metadata": {},
   "outputs": [
    {
     "data": {
      "text/plain": [
       "array([ 14.08005821, 447.88076501])"
      ]
     },
     "execution_count": 22,
     "metadata": {},
     "output_type": "execute_result"
    }
   ],
   "source": [
    "theta = theta -alpha*gradient\n",
    "theta"
   ]
  },
  {
   "cell_type": "code",
   "execution_count": 23,
   "id": "ba2bc4fc",
   "metadata": {},
   "outputs": [],
   "source": [
    "best_guess = np.dot(x,theta)"
   ]
  },
  {
   "cell_type": "code",
   "execution_count": 24,
   "id": "9b797b7e",
   "metadata": {},
   "outputs": [
    {
     "data": {
      "image/png": "[encoded data removed]",
      "text/plain": [
       "<Figure size 504x360 with 1 Axes>"
      ]
     },
     "metadata": {
      "needs_background": "light"
     },
     "output_type": "display_data"
    }
   ],
   "source": [
    "fig = plt.figure(figsize=(7,5))\n",
    "fig = sns.scatterplot(x = x[:, 1], y= best_guess)\n",
    "fig = sns.scatterplot(x = x[:, 1], y= y)"
   ]
  },
  {
   "cell_type": "markdown",
   "id": "37411007",
   "metadata": {},
   "source": [
    "# Notes:  gradient descent and plot\n"
   ]
  },
  {
   "cell_type": "code",
   "execution_count": null,
   "id": "1629a356",
   "metadata": {},
   "outputs": [],
   "source": []
  }
 ],
 "metadata": {
  "kernelspec": {
   "display_name": "Python 3 (ipykernel)",
   "language": "python",
   "name": "python3"
  },
  "language_info": {
   "codemirror_mode": {
    "name": "ipython",
    "version": 3
   },
   "file_extension": ".py",
   "mimetype": "text/x-python",
   "name": "python",
   "nbconvert_exporter": "python",
   "pygments_lexer": "ipython3",
   "version": "3.9.7"
  }
 },
 "nbformat": 4,
 "nbformat_minor": 5
}
