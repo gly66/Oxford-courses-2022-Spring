{
 "cells": [
  {
   "cell_type": "markdown",
   "id": "a53391b9-1b0a-4c10-ab98-76e6718b81bb",
   "metadata": {},
   "source": [
    "# Nigel session : Autonomous vehicle\n",
    "level 1 :\n",
    "level 2 :\n",
    "level 3 :\n",
    "level 4 :\n",
    "level 5 :"
   ]
  },
  {
   "cell_type": "markdown",
   "id": "db0d8f96-f1bf-4036-b937-6406171ae6a5",
   "metadata": {},
   "source": [
    "# Rob session : Guassian mixture model （GMM）"
   ]
  },
  {
   "cell_type": "markdown",
   "id": "1083b139-4ed5-459c-849e-15e2679b04e6",
   "metadata": {},
   "source": [
    "聚类：带有概率"
   ]
  },
  {
   "cell_type": "markdown",
   "id": "879a7e7f-3250-4f21-a126-0e3f693f928e",
   "metadata": {},
   "source": [
    "#  1. Build GMM model"
   ]
  },
  {
   "cell_type": "code",
   "execution_count": 1,
   "id": "5bca04fb-1515-4d2e-94d0-c97b9de12db8",
   "metadata": {},
   "outputs": [],
   "source": [
    "import numpy as np\n",
    "import pandas as pd\n",
    "import matplotlib.pyplot as plt"
   ]
  },
  {
   "cell_type": "code",
   "execution_count": 2,
   "id": "2411136f-2abc-4d25-9364-19788990e5f4",
   "metadata": {},
   "outputs": [
    {
     "data": {
      "text/html": [
       "<div>\n",
       "<style scoped>\n",
       "    .dataframe tbody tr th:only-of-type {\n",
       "        vertical-align: middle;\n",
       "    }\n",
       "\n",
       "    .dataframe tbody tr th {\n",
       "        vertical-align: top;\n",
       "    }\n",
       "\n",
       "    .dataframe thead th {\n",
       "        text-align: right;\n",
       "    }\n",
       "</style>\n",
       "<table border=\"1\" class=\"dataframe\">\n",
       "  <thead>\n",
       "    <tr style=\"text-align: right;\">\n",
       "      <th></th>\n",
       "      <th>The_Data</th>\n",
       "    </tr>\n",
       "  </thead>\n",
       "  <tbody>\n",
       "    <tr>\n",
       "      <th>0</th>\n",
       "      <td>113.56</td>\n",
       "    </tr>\n",
       "    <tr>\n",
       "      <th>1</th>\n",
       "      <td>61.05</td>\n",
       "    </tr>\n",
       "    <tr>\n",
       "      <th>2</th>\n",
       "      <td>37.02</td>\n",
       "    </tr>\n",
       "    <tr>\n",
       "      <th>3</th>\n",
       "      <td>108.99</td>\n",
       "    </tr>\n",
       "    <tr>\n",
       "      <th>4</th>\n",
       "      <td>110.36</td>\n",
       "    </tr>\n",
       "    <tr>\n",
       "      <th>...</th>\n",
       "      <td>...</td>\n",
       "    </tr>\n",
       "    <tr>\n",
       "      <th>977</th>\n",
       "      <td>117.43</td>\n",
       "    </tr>\n",
       "    <tr>\n",
       "      <th>978</th>\n",
       "      <td>64.23</td>\n",
       "    </tr>\n",
       "    <tr>\n",
       "      <th>979</th>\n",
       "      <td>107.29</td>\n",
       "    </tr>\n",
       "    <tr>\n",
       "      <th>980</th>\n",
       "      <td>117.62</td>\n",
       "    </tr>\n",
       "    <tr>\n",
       "      <th>981</th>\n",
       "      <td>105.64</td>\n",
       "    </tr>\n",
       "  </tbody>\n",
       "</table>\n",
       "<p>982 rows × 1 columns</p>\n",
       "</div>"
      ],
      "text/plain": [
       "     The_Data\n",
       "0      113.56\n",
       "1       61.05\n",
       "2       37.02\n",
       "3      108.99\n",
       "4      110.36\n",
       "..        ...\n",
       "977    117.43\n",
       "978     64.23\n",
       "979    107.29\n",
       "980    117.62\n",
       "981    105.64\n",
       "\n",
       "[982 rows x 1 columns]"
      ]
     },
     "execution_count": 2,
     "metadata": {},
     "output_type": "execute_result"
    }
   ],
   "source": [
    "mixed_population = pd.read_csv(\"Mixed population Data.csv\")\n",
    "mixed_population"
   ]
  },
  {
   "cell_type": "code",
   "execution_count": 4,
   "id": "9af2e6e0-9ca4-40d3-a385-39017e9f2911",
   "metadata": {},
   "outputs": [
    {
     "data": {
      "image/png": "[encoded data removed]",
      "text/plain": [
       "<Figure size 576x360 with 1 Axes>"
      ]
     },
     "metadata": {
      "needs_background": "light"
     },
     "output_type": "display_data"
    }
   ],
   "source": [
    "fig, ax = plt.subplots(nrows=1, ncols=1, figsize=[8,5])\n",
    "ax.hist(mixed_population, bins = 50, density = True, alpha = 0.5, color = \"#0070FF\")\n",
    "\n",
    "ax.set_ylabel(\"Probability density\")\n",
    "ax.set_xlabel(\"Arbitrary units\")\n",
    "\n",
    "plt.show()"
   ]
  },
  {
   "cell_type": "markdown",
   "id": "57ff9449-80cf-4ebf-bfdb-3b116e83d3f8",
   "metadata": {},
   "source": [
    "## 1.1 Generate some data for first population "
   ]
  },
  {
   "cell_type": "code",
   "execution_count": 12,
   "id": "435e8be8-7531-466b-bdd7-16c9b993fa2d",
   "metadata": {},
   "outputs": [],
   "source": [
    "sample_mean = -0.5\n",
    "sample_sd = 0.7\n",
    "number_of_samples = 2000"
   ]
  },
  {
   "cell_type": "code",
   "execution_count": 13,
   "id": "d8798beb-7a2b-42ae-9029-5aee8495a79f",
   "metadata": {},
   "outputs": [],
   "source": [
    "# generate 正态分布\n",
    "samples = np.random.normal(sample_mean,sample_sd, number_of_samples)"
   ]
  },
  {
   "cell_type": "code",
   "execution_count": 14,
   "id": "a43bf9af-65c0-4355-bf7c-ec92a30874c6",
   "metadata": {},
   "outputs": [
    {
     "data": {
      "image/png": "[encoded data removed]",
      "text/plain": [
       "<Figure size 576x360 with 1 Axes>"
      ]
     },
     "metadata": {
      "needs_background": "light"
     },
     "output_type": "display_data"
    }
   ],
   "source": [
    "fig, ax = plt.subplots(nrows=1, ncols=1, figsize=[8,5])\n",
    "ax.hist(samples, bins = 50, density = True, alpha = 0.5, color = \"#0070FF\")\n",
    "\n",
    "ax.set_ylabel(\"Probability density\")\n",
    "ax.set_xlabel(\"Arbitrary units\")\n",
    "\n",
    "plt.show()"
   ]
  },
  {
   "cell_type": "markdown",
   "id": "023d6324-0a86-425b-9b2f-34be30143389",
   "metadata": {},
   "source": [
    "## Add a second population "
   ]
  },
  {
   "cell_type": "code",
   "execution_count": 15,
   "id": "9fe88bb7-d9ba-4a61-8bb6-8a8ed25865e9",
   "metadata": {},
   "outputs": [],
   "source": [
    "samples2 = np.random.normal(1,0.3,2000)"
   ]
  },
  {
   "cell_type": "code",
   "execution_count": 16,
   "id": "83a551a5-00d0-4171-848e-08b12b10f8ce",
   "metadata": {},
   "outputs": [
    {
     "data": {
      "image/png": "[encoded data removed]",
      "text/plain": [
       "<Figure size 576x360 with 1 Axes>"
      ]
     },
     "metadata": {
      "needs_background": "light"
     },
     "output_type": "display_data"
    }
   ],
   "source": [
    "fig, ax = plt.subplots(nrows=1, ncols=1, figsize=[8,5])\n",
    "ax.hist(samples, bins = 50, density = True, alpha = 0.5, color = \"#0070FF\")\n",
    "ax.hist(samples2, bins = 50, density = True, alpha = 0.5, color = \"#ff7000\")\n",
    "\n",
    "ax.set_ylabel(\"Probability density\")\n",
    "ax.set_xlabel(\"Arbitrary units\")\n",
    "\n",
    "plt.show()"
   ]
  },
  {
   "cell_type": "code",
   "execution_count": 17,
   "id": "7e7029af-a732-4868-9763-7223ded8ade3",
   "metadata": {},
   "outputs": [],
   "source": [
    "combined_samples = np.append(samples, samples2)"
   ]
  },
  {
   "cell_type": "code",
   "execution_count": 18,
   "id": "1682af37-e5fd-48b5-b80c-c6a6eaafba24",
   "metadata": {},
   "outputs": [
    {
     "data": {
      "image/png": "[encoded data removed]",
      "text/plain": [
       "<Figure size 576x360 with 1 Axes>"
      ]
     },
     "metadata": {
      "needs_background": "light"
     },
     "output_type": "display_data"
    }
   ],
   "source": [
    "fig, ax = plt.subplots(nrows=1, ncols=1, figsize=[8,5])\n",
    "ax.hist(combined_samples, bins = 50, density = True, alpha = 0.5, color = \"#0070FF\")\n",
    "\n",
    "ax.set_ylabel(\"Probability density\")\n",
    "ax.set_xlabel(\"Arbitrary units\")\n",
    "\n",
    "plt.show()"
   ]
  },
  {
   "cell_type": "markdown",
   "id": "39435f99-00fd-40a4-8417-190686d50cc6",
   "metadata": {},
   "source": [
    "# 2. FULL algorithm for GMM"
   ]
  },
  {
   "cell_type": "code",
   "execution_count": 21,
   "id": "feef9ce4-dd5b-407f-8c32-d6f04d17b8e3",
   "metadata": {},
   "outputs": [],
   "source": [
    "# 给定均值和标准差的正态分布，给一个数据求其概率\n",
    "def norm_dist(data, mean: float, standardDeviation: float):\n",
    "    variance = standardDeviation * standardDeviation\n",
    "    s1 = 1/(np.sqrt(2*np.pi*variance))\n",
    "    s2 = np.exp(-(np.square(data-mean)/(2*variance)))\n",
    "    return s1 * s2 "
   ]
  },
  {
   "cell_type": "code",
   "execution_count": 22,
   "id": "b3ce914f-66ea-48ac-9e42-45106209d345",
   "metadata": {},
   "outputs": [
    {
     "data": {
      "text/plain": [
       "0.06475879783294587"
      ]
     },
     "execution_count": 22,
     "metadata": {},
     "output_type": "execute_result"
    }
   ],
   "source": [
    "norm_dist(4,7,2)"
   ]
  },
  {
   "cell_type": "code",
   "execution_count": 23,
   "id": "7476d985-d012-498c-a122-04a8c60b78e4",
   "metadata": {},
   "outputs": [
    {
     "name": "stdout",
     "output_type": "stream",
     "text": [
      "(982, 1)\n"
     ]
    },
    {
     "data": {
      "text/html": [
       "<div>\n",
       "<style scoped>\n",
       "    .dataframe tbody tr th:only-of-type {\n",
       "        vertical-align: middle;\n",
       "    }\n",
       "\n",
       "    .dataframe tbody tr th {\n",
       "        vertical-align: top;\n",
       "    }\n",
       "\n",
       "    .dataframe thead th {\n",
       "        text-align: right;\n",
       "    }\n",
       "</style>\n",
       "<table border=\"1\" class=\"dataframe\">\n",
       "  <thead>\n",
       "    <tr style=\"text-align: right;\">\n",
       "      <th></th>\n",
       "      <th>The_Data</th>\n",
       "    </tr>\n",
       "  </thead>\n",
       "  <tbody>\n",
       "    <tr>\n",
       "      <th>0</th>\n",
       "      <td>113.56</td>\n",
       "    </tr>\n",
       "    <tr>\n",
       "      <th>1</th>\n",
       "      <td>61.05</td>\n",
       "    </tr>\n",
       "    <tr>\n",
       "      <th>2</th>\n",
       "      <td>37.02</td>\n",
       "    </tr>\n",
       "    <tr>\n",
       "      <th>3</th>\n",
       "      <td>108.99</td>\n",
       "    </tr>\n",
       "    <tr>\n",
       "      <th>4</th>\n",
       "      <td>110.36</td>\n",
       "    </tr>\n",
       "    <tr>\n",
       "      <th>...</th>\n",
       "      <td>...</td>\n",
       "    </tr>\n",
       "    <tr>\n",
       "      <th>977</th>\n",
       "      <td>117.43</td>\n",
       "    </tr>\n",
       "    <tr>\n",
       "      <th>978</th>\n",
       "      <td>64.23</td>\n",
       "    </tr>\n",
       "    <tr>\n",
       "      <th>979</th>\n",
       "      <td>107.29</td>\n",
       "    </tr>\n",
       "    <tr>\n",
       "      <th>980</th>\n",
       "      <td>117.62</td>\n",
       "    </tr>\n",
       "    <tr>\n",
       "      <th>981</th>\n",
       "      <td>105.64</td>\n",
       "    </tr>\n",
       "  </tbody>\n",
       "</table>\n",
       "<p>982 rows × 1 columns</p>\n",
       "</div>"
      ],
      "text/plain": [
       "     The_Data\n",
       "0      113.56\n",
       "1       61.05\n",
       "2       37.02\n",
       "3      108.99\n",
       "4      110.36\n",
       "..        ...\n",
       "977    117.43\n",
       "978     64.23\n",
       "979    107.29\n",
       "980    117.62\n",
       "981    105.64\n",
       "\n",
       "[982 rows x 1 columns]"
      ]
     },
     "execution_count": 23,
     "metadata": {},
     "output_type": "execute_result"
    }
   ],
   "source": [
    "X = np.array(mixed_population)\n",
    "print(X.shape)\n",
    "mixed_population"
   ]
  },
  {
   "cell_type": "code",
   "execution_count": 27,
   "id": "9a47c5f3-6c72-4420-9751-4020fe56b664",
   "metadata": {},
   "outputs": [],
   "source": [
    "X = mixed_population.to_numpy().flatten()\n"
   ]
  },
  {
   "cell_type": "code",
   "execution_count": 28,
   "id": "453ebf86-d4d3-413c-83c3-356e9b9cb5be",
   "metadata": {},
   "outputs": [
    {
     "data": {
      "text/plain": [
       "array([0.5, 0.5])"
      ]
     },
     "execution_count": 28,
     "metadata": {},
     "output_type": "execute_result"
    }
   ],
   "source": [
    "k = 2\n",
    "weights = np.ones((k)) / k\n",
    "weights"
   ]
  },
  {
   "cell_type": "code",
   "execution_count": 29,
   "id": "69ce2ac0-5e3b-481f-9745-bbe5d54c33af",
   "metadata": {},
   "outputs": [],
   "source": [
    "means = np.array([10,30])\n",
    "variances = np.array([1,1])"
   ]
  },
  {
   "cell_type": "code",
   "execution_count": 30,
   "id": "ac839136-41d2-4cc9-8a4d-fd70e80274a3",
   "metadata": {},
   "outputs": [],
   "source": [
    "eps = 1e-8"
   ]
  },
  {
   "cell_type": "code",
   "execution_count": 31,
   "id": "a0c1c273-0a1d-4e2b-a39a-72ed4c99a16b",
   "metadata": {},
   "outputs": [],
   "source": [
    "iterationCount = 0"
   ]
  },
  {
   "cell_type": "code",
   "execution_count": 32,
   "id": "65ff95e9-c562-4eb8-8143-49819f66e56a",
   "metadata": {},
   "outputs": [
    {
     "ename": "SyntaxError",
     "evalue": "invalid syntax (Temp/ipykernel_13852/1255402512.py, line 19)",
     "output_type": "error",
     "traceback": [
      "\u001b[1;36m  File \u001b[1;32m\"C:\\Users\\gly\\AppData\\Local\\Temp/ipykernel_13852/1255402512.py\"\u001b[1;36m, line \u001b[1;32m19\u001b[0m\n\u001b[1;33m    print(\" Mean : \" means[j])\u001b[0m\n\u001b[1;37m                     ^\u001b[0m\n\u001b[1;31mSyntaxError\u001b[0m\u001b[1;31m:\u001b[0m invalid syntax\n"
     ]
    }
   ],
   "source": [
    "# step 1\n",
    "iterationCount = iterationCount + 1\n",
    "print(\"Iteration: \", iterationCount)\n",
    "\n",
    "likelihood = []\n",
    "\n",
    "for j in range(k):\n",
    "    likelihood.append(norm_dist(X, means[j], np.sqrt(variances[j])))\n",
    "likelihood = np.array(likelihood)\n",
    "\n",
    "b = []\n",
    "\n",
    "for j in range(k):\n",
    "    print(\"Population: \", j+1)\n",
    "    b.append((likelihood[j] * weights[j]) / \n",
    "             (np.sum([likelihood[i] * weights[i] for i in range(k)], axis = 0)+eps))\n",
    "    \n",
    "    means[j] = np.sum(b[j]*X) / (np.sum(b[j]+eps))\n",
    "    print(\" Mean : \" means[j])\n",
    "    variances[j] = np.sum(b[j] * np.square(X - means[j])) / (np.sum(b[j]+eps))\n",
    "    print(\" Standard deviation:\", np.sqrt(variances[j]))\n",
    "    \n",
    "for j in range(k):\n",
    "    weights[j] = np.mean(b[j])\n",
    "\n",
    "print(\"weights[i] : \", [weights[i] for i in range[k])\n",
    "                        "
   ]
  },
  {
   "cell_type": "code",
   "execution_count": null,
   "id": "aae23f3b-8309-4030-bd40-a5f9c0981aa3",
   "metadata": {},
   "outputs": [],
   "source": []
  }
 ],
 "metadata": {
  "kernelspec": {
   "display_name": "Python 3 (ipykernel)",
   "language": "python",
   "name": "python3"
  },
  "language_info": {
   "codemirror_mode": {
    "name": "ipython",
    "version": 3
   },
   "file_extension": ".py",
   "mimetype": "text/x-python",
   "name": "python",
   "nbconvert_exporter": "python",
   "pygments_lexer": "ipython3",
   "version": "3.9.7"
  }
 },
 "nbformat": 4,
 "nbformat_minor": 5
}
