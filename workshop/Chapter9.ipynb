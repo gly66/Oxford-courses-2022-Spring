{
 "cells": [
  {
   "cell_type": "markdown",
   "id": "a880ef8b-68b0-4cd4-8792-8a613042b254",
   "metadata": {},
   "source": [
    "# Deep learning for Mechine learning "
   ]
  },
  {
   "cell_type": "code",
   "execution_count": 1,
   "id": "536a4a48-5d8a-45c1-80ed-132b0bef4dc4",
   "metadata": {},
   "outputs": [],
   "source": [
    "import matplotlib.pyplot as plt\n",
    "from sklearn.datasets import make_blobs"
   ]
  },
  {
   "cell_type": "code",
   "execution_count": 2,
   "id": "582c3905-57a8-4a96-8aef-594d3b24d54f",
   "metadata": {},
   "outputs": [],
   "source": [
    "data,labels = make_blobs(n_samples=200, centers=([2,2], [6,6]),\n",
    "                         cluster_std=1,\n",
    "                         random_state=0)"
   ]
  },
  {
   "cell_type": "code",
   "execution_count": 6,
   "id": "3496c9dc-40af-4c5d-a2fa-af4d6ce7d9e4",
   "metadata": {
    "collapsed": true,
    "jupyter": {
     "outputs_hidden": true
    },
    "tags": []
   },
   "outputs": [
    {
     "data": {
      "text/plain": [
       "array([[ 4.26975462,  0.54563433],\n",
       "       [ 6.27451636,  5.10908492],\n",
       "       [ 2.06651722,  2.3024719 ],\n",
       "       [ 0.77456448,  2.84436298],\n",
       "       [ 1.19659034,  1.31045022],\n",
       "       [ 2.95008842,  1.84864279],\n",
       "       [ 0.29372981,  3.9507754 ],\n",
       "       [ 5.63530646,  6.15670386],\n",
       "       [ 6.03863055,  4.3432849 ],\n",
       "       [ 3.53277921,  3.46935877],\n",
       "       [ 6.68981816,  7.30184623],\n",
       "       [ 4.84264474,  5.68770775],\n",
       "       [ 5.8640503 ,  7.13689136],\n",
       "       [ 1.23008393,  2.53924919],\n",
       "       [ 8.3039167 ,  4.93998418],\n",
       "       [ 4.30189418,  6.38728048],\n",
       "       [ 0.92924738,  3.05445173],\n",
       "       [ 5.3477064 ,  5.47881069],\n",
       "       [ 1.90154748,  1.33652171],\n",
       "       [ 7.0685094 ,  5.5466142 ],\n",
       "       [ 6.09772497,  6.58295368],\n",
       "       [ 2.94725197,  1.84498991],\n",
       "       [ 3.86755896,  2.90604466],\n",
       "       [ 5.69098703,  4.32399619],\n",
       "       [ 6.28634369,  6.60884383],\n",
       "       [ 1.56484645,  3.84926373],\n",
       "       [ 1.260437  ,  3.5430146 ],\n",
       "       [ 2.52327666,  1.82845367],\n",
       "       [ 1.18685372,  0.2737174 ],\n",
       "       [ 2.12691209,  2.40198936],\n",
       "       [ 0.50874241,  2.4393917 ],\n",
       "       [ 4.38314477,  2.94447949],\n",
       "       [ 4.81114074,  5.49318365],\n",
       "       [ 3.8831507 ,  0.65224094],\n",
       "       [ 6.2799246 ,  5.90184961],\n",
       "       [ 6.85792392,  7.14110187],\n",
       "       [ 4.4170616 ,  6.61037938],\n",
       "       [ 5.23585608,  4.56220853],\n",
       "       [ 5.70816264,  5.23850779],\n",
       "       [ 1.10453344,  2.3869025 ],\n",
       "       [ 1.48919486,  0.81936782],\n",
       "       [ 0.82687659,  3.94362119],\n",
       "       [ 1.59682305,  3.22244507],\n",
       "       [ 5.40368596,  5.9474327 ],\n",
       "       [ 5.68911383,  6.09740017],\n",
       "       [ 5.97567388,  5.26196909],\n",
       "       [ 6.74718833,  4.81105504],\n",
       "       [ 6.42625873,  6.67690804],\n",
       "       [ 1.68844747,  2.05616534],\n",
       "       [ 2.85683061,  1.34897441],\n",
       "       [ 5.05555374,  5.58995031],\n",
       "       [ 0.38610215,  1.78725972],\n",
       "       [ 3.96931553,  8.06449286],\n",
       "       [ 2.20827498,  2.97663904],\n",
       "       [ 7.15233156,  7.07961859],\n",
       "       [ 8.25930895,  5.95774285],\n",
       "       [ 5.73226646,  4.87198867],\n",
       "       [ 5.98431789,  6.16092817],\n",
       "       [ 3.48825219,  3.89588918],\n",
       "       [ 5.18663574,  4.53357567],\n",
       "       [ 5.30795015,  7.53637705],\n",
       "       [ 5.52034419,  6.6203583 ],\n",
       "       [ 4.84381757,  6.7811981 ],\n",
       "       [ 1.32566734,  2.03183056],\n",
       "       [ 6.64331447,  4.42937659],\n",
       "       [ 2.46566244,  0.46375631],\n",
       "       [ 2.37642553,  0.90059921],\n",
       "       [ 5.27440262,  4.61663604],\n",
       "       [ 0.95144703,  0.57998206],\n",
       "       [ 6.69845715,  6.00377089],\n",
       "       [ 6.93184837,  6.33996498],\n",
       "       [ 5.53640403,  6.48148147],\n",
       "       [ 6.78632796,  5.5335809 ],\n",
       "       [ 6.69377315,  5.84042656],\n",
       "       [ 6.39904635,  3.22740724],\n",
       "       [ 1.36567791,  1.63725883],\n",
       "       [ 3.74443577,  4.97749316],\n",
       "       [ 2.39600671,  0.90693849],\n",
       "       [ 3.49407907,  1.79484174],\n",
       "       [ 1.61267318,  1.69769725],\n",
       "       [ 5.28039561,  5.18700701],\n",
       "       [ 1.58638102,  1.25254519],\n",
       "       [ 2.57659082,  1.79170124],\n",
       "       [ 6.56729028,  5.7773249 ],\n",
       "       [ 4.69347315,  7.65813068],\n",
       "       [ 5.95782855,  5.71311281],\n",
       "       [ 2.72909056,  2.12898291],\n",
       "       [ 2.94942081,  2.08755124],\n",
       "       [ 3.92294203,  3.48051479],\n",
       "       [ 1.09270164,  2.0519454 ],\n",
       "       [ 6.66638308,  5.53928021],\n",
       "       [ 4.16323595,  3.33652795],\n",
       "       [ 5.044055  ,  5.65401822],\n",
       "       [ 0.96575716,  2.68159452],\n",
       "       [ 2.8644362 ,  1.25783498],\n",
       "       [ 6.28044171,  5.00687639],\n",
       "       [ 1.97181777,  2.42833187],\n",
       "       [ 4.06372019,  6.1887786 ],\n",
       "       [ 1.32753955,  1.64044684],\n",
       "       [ 2.77179055,  2.82350415],\n",
       "       [ 1.49034782,  1.5619257 ],\n",
       "       [ 2.44386323,  2.33367433],\n",
       "       [ 1.3563816 , -0.22340315],\n",
       "       [ 0.74720464,  2.77749036],\n",
       "       [ 5.29529972,  6.94326072],\n",
       "       [ 2.1666735 ,  2.63503144],\n",
       "       [ 4.87317419,  5.26932225],\n",
       "       [ 7.95591231,  6.39009332],\n",
       "       [ 1.89678115,  2.4105985 ],\n",
       "       [ 5.64656825,  4.38352581],\n",
       "       [ 3.12663592,  0.92006849],\n",
       "       [ 6.84163126,  5.75054142],\n",
       "       [ 5.3159891 ,  7.6595508 ],\n",
       "       [ 5.84233298,  8.2567235 ],\n",
       "       [ 5.98297959,  6.37915174],\n",
       "       [ 6.5785215 ,  6.34965446],\n",
       "       [ 1.73199663,  2.8024564 ],\n",
       "       [ 1.65208785,  2.15634897],\n",
       "       [ 5.86629844,  7.07774381],\n",
       "       [ 5.86711942,  5.70220912],\n",
       "       [ 5.37191244,  5.51897288],\n",
       "       [ 1.13877431,  3.91006495],\n",
       "       [ 7.0996596 ,  6.65526373],\n",
       "       [ 5.31216239,  4.7859226 ],\n",
       "       [ 3.18802979,  2.31694261],\n",
       "       [ 1.08717777,  3.11701629],\n",
       "       [ 4.45920299,  6.06326199],\n",
       "       [ 1.11221425,  0.01920353],\n",
       "       [ 1.36415392,  2.67643329],\n",
       "       [ 2.29823817,  3.3263859 ],\n",
       "       [ 0.68409259,  1.5384154 ],\n",
       "       [ 3.76405235,  2.40015721],\n",
       "       [ 1.50196755,  3.92953205],\n",
       "       [ 5.34759142,  5.60904662],\n",
       "       [ 5.9383736 ,  5.89269472],\n",
       "       [ 2.14404357,  3.45427351],\n",
       "       [ 6.69153875,  6.69474914],\n",
       "       [ 0.99978465,  0.4552289 ],\n",
       "       [ 3.13940068,  0.76517418],\n",
       "       [ 4.66574153,  4.65328249],\n",
       "       [ 1.64600609,  0.62504871],\n",
       "       [ 2.67229476,  2.40746184],\n",
       "       [ 0.89561666,  2.05216508],\n",
       "       [ 7.64813493,  6.16422776],\n",
       "       [ 6.49374178,  5.88389606],\n",
       "       [ 4.24410942,  6.45093446],\n",
       "       [ 2.17742614,  1.59821906],\n",
       "       [ 1.96071718,  0.8319065 ],\n",
       "       [ 0.70714309,  2.26705087],\n",
       "       [ 6.15650654,  6.23218104],\n",
       "       [ 2.61407937,  2.92220667],\n",
       "       [ 2.40234164,  1.31518991],\n",
       "       [ 4.95474663,  7.21114529],\n",
       "       [ 5.55907737,  5.7196445 ],\n",
       "       [ 0.83485016,  2.90082649],\n",
       "       [ 2.01050002,  3.78587049],\n",
       "       [ 5.63081816,  5.76062082],\n",
       "       [ 6.04949498,  6.49383678],\n",
       "       [ 6.91017891,  6.31721822],\n",
       "       [ 2.62523145,  0.39794234],\n",
       "       [ 2.04575852,  1.81281615],\n",
       "       [ 1.5444675 ,  2.01747916],\n",
       "       [ 3.23029068,  3.20237985],\n",
       "       [ 5.36256297,  5.60272819],\n",
       "       [ 5.60055097,  6.37005589],\n",
       "       [ 3.34082776,  6.60631952],\n",
       "       [ 2.3563664 ,  2.70657317],\n",
       "       [ 7.36453185,  5.31055082],\n",
       "       [ 1.30543214,  1.85036546],\n",
       "       [ 0.85253135,  1.56217996],\n",
       "       [ 3.17877957,  1.82007516],\n",
       "       [ 5.45713852,  6.41605005],\n",
       "       [ 5.01448926,  4.52816499],\n",
       "       [ 4.57593909,  5.50668012],\n",
       "       [ 2.3130677 ,  1.14590426],\n",
       "       [ 5.61512019,  6.09435159],\n",
       "       [ 1.25524518,  1.17356146],\n",
       "       [ 3.86755799,  1.02272212],\n",
       "       [ 0.729515  ,  2.96939671],\n",
       "       [ 4.15693045,  5.522026  ],\n",
       "       [ 5.80934651,  5.60515049],\n",
       "       [ 6.14195316,  5.68067158],\n",
       "       [ 2.92085882,  2.31872765],\n",
       "       [ 5.40268393,  5.76207827],\n",
       "       [ 1.93175839,  3.71334272],\n",
       "       [ 6.77325298,  4.81611936],\n",
       "       [ 6.64013153,  4.38304396],\n",
       "       [ 5.79309632,  6.88017891],\n",
       "       [ 6.52106488,  5.42421203],\n",
       "       [ 2.76103773,  2.12167502],\n",
       "       [-0.55298982,  2.6536186 ],\n",
       "       [ 2.97873798,  4.2408932 ],\n",
       "       [ 1.12920285,  1.42115034],\n",
       "       [ 6.52389102,  6.08842209],\n",
       "       [ 7.46657872,  6.85255194],\n",
       "       [ 5.88183595,  5.3198218 ],\n",
       "       [ 0.36980165,  2.46278226],\n",
       "       [ 7.49448454,  3.93001497],\n",
       "       [ 2.15494743,  2.37816252],\n",
       "       [ 5.88945934,  7.02017271]])"
      ]
     },
     "execution_count": 6,
     "metadata": {},
     "output_type": "execute_result"
    }
   ],
   "source": [
    "data"
   ]
  },
  {
   "cell_type": "code",
   "execution_count": 7,
   "id": "636a796f-45de-4129-b49d-46dccb848298",
   "metadata": {
    "collapsed": true,
    "jupyter": {
     "outputs_hidden": true
    },
    "tags": []
   },
   "outputs": [
    {
     "data": {
      "text/plain": [
       "array([0, 1, 0, 0, 0, 0, 0, 1, 1, 0, 1, 1, 1, 0, 1, 1, 0, 1, 0, 1, 1, 0,\n",
       "       0, 1, 1, 0, 0, 0, 0, 0, 0, 0, 1, 0, 1, 1, 1, 1, 1, 0, 0, 0, 0, 1,\n",
       "       1, 1, 1, 1, 0, 0, 1, 0, 1, 0, 1, 1, 1, 1, 0, 1, 1, 1, 1, 0, 1, 0,\n",
       "       0, 1, 0, 1, 1, 1, 1, 1, 1, 0, 1, 0, 0, 0, 1, 0, 0, 1, 1, 1, 0, 0,\n",
       "       0, 0, 1, 0, 1, 0, 0, 1, 0, 1, 0, 0, 0, 0, 0, 0, 1, 0, 1, 1, 0, 1,\n",
       "       0, 1, 1, 1, 1, 1, 0, 0, 1, 1, 1, 0, 1, 1, 0, 0, 1, 0, 0, 0, 0, 0,\n",
       "       0, 1, 1, 0, 1, 0, 0, 1, 0, 0, 0, 1, 1, 1, 0, 0, 0, 1, 0, 0, 1, 1,\n",
       "       0, 0, 1, 1, 1, 0, 0, 0, 0, 1, 1, 1, 0, 1, 0, 0, 0, 1, 1, 1, 0, 1,\n",
       "       0, 0, 0, 1, 1, 1, 0, 1, 0, 1, 1, 1, 1, 0, 0, 0, 0, 1, 1, 1, 0, 1,\n",
       "       0, 1])"
      ]
     },
     "execution_count": 7,
     "metadata": {},
     "output_type": "execute_result"
    }
   ],
   "source": [
    "labels"
   ]
  },
  {
   "cell_type": "code",
   "execution_count": 8,
   "id": "2d33e9df-86de-4382-895d-4b87accb068f",
   "metadata": {},
   "outputs": [
    {
     "data": {
      "image/png": "[encoded data removed]",
      "text/plain": [
       "<Figure size 432x288 with 1 Axes>"
      ]
     },
     "metadata": {
      "needs_background": "light"
     },
     "output_type": "display_data"
    }
   ],
   "source": [
    "colors = ('green', 'red')\n",
    "fig,ax = plt.subplots()\n",
    "for n_class in range(2):\n",
    "    plt.scatter(data[labels == n_class][:,0],\n",
    "                data[labels == n_class][:,1],\n",
    "                c=colors[n_class],\n",
    "                s=20,\n",
    "                label=str(n_class))"
   ]
  },
  {
   "cell_type": "code",
   "execution_count": 22,
   "id": "92bbd4b1-763a-488f-8103-0f395a5a6fe1",
   "metadata": {},
   "outputs": [],
   "source": [
    "theta_0 = -37\n",
    "theta_1 = 3.04\n",
    "theta_2 = 6.56"
   ]
  },
  {
   "cell_type": "code",
   "execution_count": 23,
   "id": "1ab5e516-c79a-40ba-ab2f-f3fa5d9e268e",
   "metadata": {},
   "outputs": [],
   "source": [
    "net_input = theta_0 + theta_1* data[:,0] + theta_2*data[:,1]\n",
    "classification = list(map( lambda x: 1 if x>0 else 0, net_input))"
   ]
  },
  {
   "cell_type": "code",
   "execution_count": 24,
   "id": "4e2cc5f9-14b7-47ee-a063-849e749533d1",
   "metadata": {},
   "outputs": [
    {
     "name": "stdout",
     "output_type": "stream",
     "text": [
      "[0, 1, 0, 0, 0, 0, 0, 1, 1, 0, 1, 1, 1, 0, 1, 1, 0, 1, 0, 1, 1, 0, 0, 1, 1, 0, 0, 0, 0, 0, 0, 0, 1, 0, 1, 1, 1, 1, 1, 0, 0, 0, 0, 1, 1, 1, 1, 1, 0, 0, 1, 0, 1, 0, 1, 1, 1, 1, 0, 1, 1, 1, 1, 0, 1, 0, 0, 1, 0, 1, 1, 1, 1, 1, 1, 0, 1, 0, 0, 0, 1, 0, 0, 1, 1, 1, 0, 0, 0, 0, 1, 0, 1, 0, 0, 1, 0, 1, 0, 0, 0, 0, 0, 0, 1, 0, 1, 1, 0, 1, 0, 1, 1, 1, 1, 1, 0, 0, 1, 1, 1, 0, 1, 1, 0, 0, 1, 0, 0, 0, 0, 0, 0, 1, 1, 0, 1, 0, 0, 1, 0, 0, 0, 1, 1, 1, 0, 0, 0, 1, 0, 0, 1, 1, 0, 0, 1, 1, 1, 0, 0, 0, 0, 1, 1, 1, 0, 1, 0, 0, 0, 1, 1, 1, 0, 1, 0, 0, 0, 1, 1, 1, 0, 1, 0, 1, 1, 1, 1, 0, 0, 0, 0, 1, 1, 1, 0, 1, 0, 1]\n"
     ]
    }
   ],
   "source": [
    "print(classification)"
   ]
  },
  {
   "cell_type": "code",
   "execution_count": 25,
   "id": "567a45e9-05e3-4a65-9e03-d302f6198c22",
   "metadata": {},
   "outputs": [
    {
     "data": {
      "text/plain": [
       "200"
      ]
     },
     "execution_count": 25,
     "metadata": {},
     "output_type": "execute_result"
    }
   ],
   "source": [
    "number_correct = sum(x == y for x, y in zip(labels,classification))\n",
    "number_correct"
   ]
  },
  {
   "cell_type": "code",
   "execution_count": 26,
   "id": "22a30b12-35e1-4c41-a8b1-ab6f01d72c69",
   "metadata": {},
   "outputs": [
    {
     "data": {
      "text/plain": [
       "1.0"
      ]
     },
     "execution_count": 26,
     "metadata": {},
     "output_type": "execute_result"
    }
   ],
   "source": [
    "score = number_correct/200\n",
    "score"
   ]
  },
  {
   "cell_type": "markdown",
   "id": "d45a6b6e-c48c-40c4-8618-f89585ff74e8",
   "metadata": {},
   "source": [
    "# Using sklearn to fit the perception "
   ]
  },
  {
   "cell_type": "code",
   "execution_count": 17,
   "id": "dea43443-a13e-4dd5-a272-b5118b88f416",
   "metadata": {},
   "outputs": [],
   "source": [
    "from sklearn.model_selection import train_test_split\n",
    "datasets = train_test_split(data,\n",
    "                            labels,\n",
    "                            test_size=0.2)\n",
    "train_data, test_data, train_labels, test_labels = datasets"
   ]
  },
  {
   "cell_type": "code",
   "execution_count": 18,
   "id": "0d58362a-a0c5-403a-9fb3-7463e9d8f282",
   "metadata": {},
   "outputs": [
    {
     "data": {
      "text/plain": [
       "Perceptron(max_iter=500, random_state=43, tol=1)"
      ]
     },
     "execution_count": 18,
     "metadata": {},
     "output_type": "execute_result"
    }
   ],
   "source": [
    "from sklearn.linear_model import Perceptron\n",
    "p = Perceptron(random_state=43, max_iter=500,tol=1)\n",
    "p.fit(train_data,train_labels)"
   ]
  },
  {
   "cell_type": "code",
   "execution_count": 19,
   "id": "f4e5262a-f694-43ab-b2cb-288bfe760048",
   "metadata": {},
   "outputs": [
    {
     "name": "stdout",
     "output_type": "stream",
     "text": [
      "theta 1 =  3.0424604371709663\n",
      "theta 2 =  6.5649848827633495\n"
     ]
    }
   ],
   "source": [
    "print('theta 1 = ',p.coef_[0][0])\n",
    "print('theta 2 = ',p.coef_[0][1])"
   ]
  },
  {
   "cell_type": "code",
   "execution_count": 20,
   "id": "37882531-65e4-48a3-b690-aaf725343620",
   "metadata": {},
   "outputs": [
    {
     "name": "stdout",
     "output_type": "stream",
     "text": [
      "theta 0 =  -37.0\n"
     ]
    }
   ],
   "source": [
    "print('theta 0 = ',p.intercept_[0])"
   ]
  },
  {
   "cell_type": "code",
   "execution_count": 21,
   "id": "79aafd3d-9ab7-42bc-9b9b-1a9c43aafb09",
   "metadata": {},
   "outputs": [
    {
     "name": "stdout",
     "output_type": "stream",
     "text": [
      "score on train data: 1.0\n",
      "score on test data:  1.0\n"
     ]
    }
   ],
   "source": [
    "from sklearn.metrics import accuracy_score\n",
    "predictions_train = p.predict(train_data)\n",
    "predictions_test = p.predict(test_data)\n",
    "train_score = accuracy_score(predictions_train, train_labels)\n",
    "print('score on train data:', train_score)\n",
    "test_score= accuracy_score(predictions_test,test_labels)\n",
    "print('score on test data: ', test_score)"
   ]
  },
  {
   "cell_type": "markdown",
   "id": "970d0e51-ac45-4413-a2ca-c3c03d6ddc09",
   "metadata": {},
   "source": [
    "# Keras and Deep Neural Networks"
   ]
  },
  {
   "cell_type": "code",
   "execution_count": 28,
   "id": "5b0035ce-84c2-41e0-a6a3-829abb4f7e6b",
   "metadata": {},
   "outputs": [],
   "source": [
    "import tensorflow.keras as keras\n",
    "from tensorflow.keras.models import Sequential\n",
    "from tensorflow.keras.layers import Conv2D, MaxPooling2D,Dense,Flatten,Dropout\n",
    "from tensorflow.keras.optimizers import Adam\n",
    "import numpy as np\n",
    "import matplotlib.pyplot as plt\n",
    "import pandas as pd"
   ]
  },
  {
   "cell_type": "code",
   "execution_count": 30,
   "id": "4c48871c-6f3f-4c37-a479-550be0012785",
   "metadata": {},
   "outputs": [
    {
     "data": {
      "text/plain": [
       "'2.7.0'"
      ]
     },
     "execution_count": 30,
     "metadata": {},
     "output_type": "execute_result"
    }
   ],
   "source": [
    "keras.__version__"
   ]
  },
  {
   "cell_type": "code",
   "execution_count": 31,
   "id": "b93ef614-48b1-46a9-97de-ca74d6799bdb",
   "metadata": {},
   "outputs": [
    {
     "name": "stdout",
     "output_type": "stream",
     "text": [
      "Downloading data from https://storage.googleapis.com/tensorflow/tf-keras-datasets/train-labels-idx1-ubyte.gz\n",
      "32768/29515 [=================================] - 0s 6us/step\n",
      "40960/29515 [=========================================] - 0s 5us/step\n",
      "Downloading data from https://storage.googleapis.com/tensorflow/tf-keras-datasets/train-images-idx3-ubyte.gz\n",
      "26427392/26421880 [==============================] - 5s 0us/step\n",
      "26435584/26421880 [==============================] - 5s 0us/step\n",
      "Downloading data from https://storage.googleapis.com/tensorflow/tf-keras-datasets/t10k-labels-idx1-ubyte.gz\n",
      "16384/5148 [===============================================================================================] - 0s 0s/step\n",
      "Downloading data from https://storage.googleapis.com/tensorflow/tf-keras-datasets/t10k-images-idx3-ubyte.gz\n",
      "4423680/4422102 [==============================] - 3s 1us/step\n",
      "4431872/4422102 [==============================] - 3s 1us/step\n"
     ]
    }
   ],
   "source": [
    "fashion = keras.datasets.fashion_mnist\n",
    "(train_images, train_labels),(test_images,test_labels) = fashion.load_data()"
   ]
  },
  {
   "cell_type": "code",
   "execution_count": 32,
   "id": "0f7ea960-6ddd-4b60-891b-62800d70a2b4",
   "metadata": {},
   "outputs": [
    {
     "name": "stdout",
     "output_type": "stream",
     "text": [
      "(60000, 28, 28)\n",
      "(10000, 28, 28)\n"
     ]
    }
   ],
   "source": [
    "print(train_images.shape)\n",
    "print(test_images.shape)"
   ]
  },
  {
   "cell_type": "code",
   "execution_count": 33,
   "id": "0e1aa19f-a626-4468-97fd-3cc038b766e0",
   "metadata": {},
   "outputs": [],
   "source": [
    "class_names = ['T-shirt/top','Trouser','Pullover', 'Dress','Coat',\n",
    "               'Sandal', 'Shirt', 'Sneaker', 'Bag', 'Ankle boot']"
   ]
  },
  {
   "cell_type": "code",
   "execution_count": 34,
   "id": "8504f446-052c-4975-96fa-2719c7399ba2",
   "metadata": {},
   "outputs": [
    {
     "data": {
      "image/png": "[encoded data removed]",
      "text/plain": [
       "<Figure size 432x288 with 1 Axes>"
      ]
     },
     "metadata": {
      "needs_background": "light"
     },
     "output_type": "display_data"
    }
   ],
   "source": [
    "image_number=2000\n",
    "plt.figure()\n",
    "plt.imshow(train_images[image_number], cmap=plt.cm.binary)\n",
    "plt.xlabel(class_names[train_labels[image_number]])\n",
    "plt.grid(False)\n",
    "plt.show()"
   ]
  },
  {
   "cell_type": "code",
   "execution_count": 35,
   "id": "93c83b8a-072f-41df-8912-28af6214909e",
   "metadata": {},
   "outputs": [],
   "source": [
    "train_images = keras.utils.normalize(train_images, axis=1)\n",
    "test_images = keras.utils.normalize(test_images,axis = 1)"
   ]
  },
  {
   "cell_type": "code",
   "execution_count": 36,
   "id": "6787d3e9-3276-458a-bc73-ba33e5a89095",
   "metadata": {},
   "outputs": [
    {
     "data": {
      "text/plain": [
       "array([0.        , 0.        , 0.        , 0.        , 0.        ,\n",
       "       0.00163724, 0.        , 0.        , 0.        , 0.        ,\n",
       "       0.04180052, 0.18134076, 0.10028745, 0.05368613, 0.04603788,\n",
       "       0.04237663, 0.08378428, 0.16247149, 0.13003419, 0.01660002,\n",
       "       0.        , 0.        , 0.        , 0.        , 0.        ,\n",
       "       0.        , 0.        , 0.        ])"
      ]
     },
     "execution_count": 36,
     "metadata": {},
     "output_type": "execute_result"
    }
   ],
   "source": [
    "train_images[1][0]"
   ]
  },
  {
   "cell_type": "code",
   "execution_count": 37,
   "id": "9f404d39-b60f-41cf-a156-65195129da57",
   "metadata": {},
   "outputs": [],
   "source": [
    "model = keras.Sequential([\n",
    "    keras.layers.Flatten(input_shape=(28,28)),\n",
    "    keras.layers.Dense(128,activation='relu'),\n",
    "    keras.layers.Dense(10,activation='softmax')\n",
    "]);"
   ]
  },
  {
   "cell_type": "code",
   "execution_count": 38,
   "id": "fc69f7c8-e2ae-44bf-8ba9-4fafc5e9ea8c",
   "metadata": {},
   "outputs": [
    {
     "name": "stdout",
     "output_type": "stream",
     "text": [
      "Model: \"sequential\"\n",
      "_________________________________________________________________\n",
      " Layer (type)                Output Shape              Param #   \n",
      "=================================================================\n",
      " flatten (Flatten)           (None, 784)               0         \n",
      "                                                                 \n",
      " dense (Dense)               (None, 128)               100480    \n",
      "                                                                 \n",
      " dense_1 (Dense)             (None, 10)                1290      \n",
      "                                                                 \n",
      "=================================================================\n",
      "Total params: 101,770\n",
      "Trainable params: 101,770\n",
      "Non-trainable params: 0\n",
      "_________________________________________________________________\n"
     ]
    }
   ],
   "source": [
    "model.summary()"
   ]
  },
  {
   "cell_type": "code",
   "execution_count": 39,
   "id": "02ea0a55-48d3-4fc7-8187-12f5267c97f8",
   "metadata": {},
   "outputs": [],
   "source": [
    "model.compile(optimizer='adam',\n",
    "              loss = 'sparse_categorical_crossentropy',\n",
    "              metrics=['accuracy'])"
   ]
  },
  {
   "cell_type": "code",
   "execution_count": 40,
   "id": "44ae3c0c-5882-4ca1-8fe1-bd4403dd1d55",
   "metadata": {},
   "outputs": [
    {
     "name": "stdout",
     "output_type": "stream",
     "text": [
      "Epoch 1/10\n",
      "1875/1875 [==============================] - 2s 749us/step - loss: 0.5109 - accuracy: 0.8153\n",
      "Epoch 2/10\n",
      "1875/1875 [==============================] - 1s 740us/step - loss: 0.3732 - accuracy: 0.8641\n",
      "Epoch 3/10\n",
      "1875/1875 [==============================] - 1s 751us/step - loss: 0.3344 - accuracy: 0.8770\n",
      "Epoch 4/10\n",
      "1875/1875 [==============================] - 1s 736us/step - loss: 0.3109 - accuracy: 0.8837\n",
      "Epoch 5/10\n",
      "1875/1875 [==============================] - 1s 738us/step - loss: 0.2910 - accuracy: 0.8912\n",
      "Epoch 6/10\n",
      "1875/1875 [==============================] - 1s 743us/step - loss: 0.2763 - accuracy: 0.8972\n",
      "Epoch 7/10\n",
      "1875/1875 [==============================] - 1s 740us/step - loss: 0.2619 - accuracy: 0.9017\n",
      "Epoch 8/10\n",
      "1875/1875 [==============================] - 1s 738us/step - loss: 0.2521 - accuracy: 0.9052\n",
      "Epoch 9/10\n",
      "1875/1875 [==============================] - 1s 736us/step - loss: 0.2394 - accuracy: 0.9097\n",
      "Epoch 10/10\n",
      "1875/1875 [==============================] - 1s 737us/step - loss: 0.2307 - accuracy: 0.9126\n"
     ]
    },
    {
     "data": {
      "text/plain": [
       "<keras.callbacks.History at 0x1e11d6a48e0>"
      ]
     },
     "execution_count": 40,
     "metadata": {},
     "output_type": "execute_result"
    }
   ],
   "source": [
    "model.fit(train_images,train_labels,epochs=10)"
   ]
  },
  {
   "cell_type": "code",
   "execution_count": 41,
   "id": "fee0d7df-1bf2-40cc-9ccb-26948252b448",
   "metadata": {},
   "outputs": [
    {
     "name": "stdout",
     "output_type": "stream",
     "text": [
      "313/313 [==============================] - 0s 601us/step - loss: 0.3394 - accuracy: 0.8768\n",
      "\n",
      "Test accuracy: 0.876800000667572\n"
     ]
    }
   ],
   "source": [
    "test_loss,test_acc = model.evaluate(test_images,test_labels)\n",
    "print('\\nTest accuracy:', test_acc)"
   ]
  },
  {
   "cell_type": "code",
   "execution_count": 42,
   "id": "b42957fb-8bd1-4a1c-a7b7-f95f853e2d26",
   "metadata": {},
   "outputs": [
    {
     "name": "stdout",
     "output_type": "stream",
     "text": [
      "Label =  0  :  T-shirt/top\n"
     ]
    }
   ],
   "source": [
    "test_item=120\n",
    "label = test_labels[test_item]\n",
    "print('Label = ', label, ' : ', class_names[label])"
   ]
  },
  {
   "cell_type": "code",
   "execution_count": 43,
   "id": "e4c37eb5-00c5-48bb-9134-14d55b6865e1",
   "metadata": {},
   "outputs": [
    {
     "data": {
      "text/plain": [
       "Text(0.5, 0, 'T-shirt/top')"
      ]
     },
     "execution_count": 43,
     "metadata": {},
     "output_type": "execute_result"
    },
    {
     "data": {
      "image/png": "[encoded data removed]",
      "text/plain": [
       "<Figure size 432x288 with 1 Axes>"
      ]
     },
     "metadata": {
      "needs_background": "light"
     },
     "output_type": "display_data"
    }
   ],
   "source": [
    "test_image = test_images[test_item]\n",
    "plt.imshow(test_image,cmap=plt.cm.binary)\n",
    "plt.xlabel(class_names[test_labels[test_item]])"
   ]
  },
  {
   "cell_type": "code",
   "execution_count": 44,
   "id": "773baa13-96ff-4c37-9ad5-56037f16db9b",
   "metadata": {},
   "outputs": [],
   "source": [
    "predctions = model.predict(test_images)"
   ]
  },
  {
   "cell_type": "code",
   "execution_count": 45,
   "id": "41d24f1e-172f-4e91-80be-8e1dfab44f55",
   "metadata": {},
   "outputs": [
    {
     "data": {
      "text/plain": [
       "array([9.9962866e-01, 3.8401579e-10, 1.6187505e-04, 9.3386092e-07,\n",
       "       9.4015009e-09, 1.7147444e-06, 2.0687892e-04, 6.3548423e-11,\n",
       "       3.4453713e-09, 5.5755511e-09], dtype=float32)"
      ]
     },
     "execution_count": 45,
     "metadata": {},
     "output_type": "execute_result"
    }
   ],
   "source": [
    "predctions[test_item]"
   ]
  },
  {
   "cell_type": "code",
   "execution_count": 46,
   "id": "60c86882-9ac8-4628-a2f3-e977955faa2a",
   "metadata": {},
   "outputs": [
    {
     "data": {
      "image/png": "[encoded data removed]",
      "text/plain": [
       "<Figure size 432x288 with 1 Axes>"
      ]
     },
     "metadata": {
      "needs_background": "light"
     },
     "output_type": "display_data"
    }
   ],
   "source": [
    "df = pd.DataFrame(predctions[test_item])\n",
    "ax = df.plot.bar()"
   ]
  },
  {
   "cell_type": "code",
   "execution_count": 47,
   "id": "fe15d191-f90f-4dd6-bd3a-b6b4539b3890",
   "metadata": {},
   "outputs": [
    {
     "name": "stdout",
     "output_type": "stream",
     "text": [
      "Predicted label =  0  :  T-shirt/top\n"
     ]
    }
   ],
   "source": [
    "predicted_label = np.argmax(predctions[test_item])\n",
    "print('Predicted label = ', predicted_label, ' : ', class_names[predicted_label])"
   ]
  },
  {
   "cell_type": "code",
   "execution_count": null,
   "id": "e3d0fbf5-4c16-40cd-85c1-c0f7dbe7dbbf",
   "metadata": {},
   "outputs": [],
   "source": []
  }
 ],
 "metadata": {
  "kernelspec": {
   "display_name": "Python 3 (ipykernel)",
   "language": "python",
   "name": "python3"
  },
  "language_info": {
   "codemirror_mode": {
    "name": "ipython",
    "version": 3
   },
   "file_extension": ".py",
   "mimetype": "text/x-python",
   "name": "python",
   "nbconvert_exporter": "python",
   "pygments_lexer": "ipython3",
   "version": "3.9.7"
  }
 },
 "nbformat": 4,
 "nbformat_minor": 5
}
